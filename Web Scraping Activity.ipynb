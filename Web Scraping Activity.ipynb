{
 "cells": [
  {
   "cell_type": "markdown",
   "metadata": {},
   "source": [
    "# My challenge here is to create a .csv file with data and to calculate some descriptive statistics.\n",
    "\n",
    "1. Choose a website that interests you (any retailer or real estate website will do). Check the T&C in order to make sure that you are allowed to crawl data from it. \n",
    "2. Choose an object category (e.g. women's jackets) and scrape the products' names and prices. \n",
    "3. What is the average prices of these items?\n",
    "4. Which is the most expensive and which is the cheapest ones?\n",
    "5. Submit your code with comments. "
   ]
  },
  {
   "cell_type": "code",
   "execution_count": 1,
   "metadata": {},
   "outputs": [],
   "source": [
    "from bs4 import BeautifulSoup\n",
    "import requests\n",
    "import csv\n",
    "from datetime import datetime\n",
    "import pandas as pd"
   ]
  },
  {
   "cell_type": "markdown",
   "metadata": {},
   "source": [
    "### 1, Choose a website that interests you (any retailer or real estate website will do)\n",
    "I have selected www.boohoo.com because there is not restriction for me to carry out my tasks."
   ]
  },
  {
   "cell_type": "code",
   "execution_count": 2,
   "metadata": {},
   "outputs": [],
   "source": [
    "target_page = ['https://www.boohoo.com/fit-zip-up-gym-top/FZZ70246.html?color=106',\n",
    "               'https://www.boohoo.com/fit-contour-stitch-gym-top/FZZ70247.html?color=295',\n",
    "               'https://www.boohoo.com/fit-notch-front-sports-bra/FZZ70251.html?color=105',\n",
    "               'https://www.boohoo.com/tiger-print-high-neck-longsleeve-top-/FZZ69928.html',\n",
    "               'https://www.boohoo.com/premium-eyelash-lace-panelled-bodysuit/DZZ02829.html?color=104',\n",
    "               'https://www.boohoo.com/asymmetric-hem-belted-woven-top/DZZ05620.html?color=146',\n",
    "               'https://www.boohoo.com/wrap-chiffon-split-sleeve-bodysuit/DZZ03431.html?color=173',\n",
    "               'https://www.boohoo.com/boho-print-knot-front-blouse/DZZ09757.html',\n",
    "               'https://www.boohoo.com/oversized-overdyed-back-graphic-tee/FZZ71626.html?color=115',\n",
    "               'https://www.boohoo.com/jumbo-rib-square-neck-bodysuit-/FZZ70436.html']"
   ]
  },
  {
   "cell_type": "markdown",
   "metadata": {},
   "source": [
    "### 2, Choose an object category(e.g women's jackets) and scrape the products: names and prices\n",
    "I have decided decided to work on women's sales clothes of www.boohoo.com."
   ]
  },
  {
   "cell_type": "code",
   "execution_count": 4,
   "metadata": {},
   "outputs": [],
   "source": [
    "data_details = []\n",
    "for items in target_page:\n",
    "    page = requests.get(items)\n",
    "    \n",
    "\n",
    "    soup = BeautifulSoup(page.content, 'html.parser')\n",
    "    \n",
    "    \n",
    "    # get name\n",
    "    name_info = soup.find('h1', attrs={'class': 'product-name'})\n",
    "    name = name_info.text.strip()\n",
    "    \n",
    "    \n",
    "    # get price\n",
    "    price_info = soup.find('span', attrs={'class': 'price-sales'})\n",
    "    price = price_info.text.strip()\n",
    "    \n",
    "    \n",
    "    #save the data\n",
    "    data_details.append((name,price))\n",
    "\n",
    "# this will write into csv file called price.csv and the contents are names and prices of merchandises.\n",
    "with open('price.csv', 'a') as csv_file:\n",
    "    writer = csv.writer(csv_file)\n",
    "    for name, price in data_details:\n",
    "        writer.writerow([name,price,datetime.now()])"
   ]
  },
  {
   "cell_type": "code",
   "execution_count": 5,
   "metadata": {},
   "outputs": [
    {
     "name": "stdout",
     "output_type": "stream",
     "text": [
      "[('Fit Zip Up Gym Top', '£9.60'), ('Fit Contour Stitch Gym Top', '£9.60'), ('Fit Notch Front Sports Bra', '£8.00'), ('Tiger Print High Neck Longsleeve Top', '£8.00'), ('Premium Eyelash Lace Panelled Bodysuit', '£14.40'), ('Asymmetric Hem Belted Woven Top', '£11.20'), ('Wrap Chiffon Split Sleeve Bodysuit', '£14.40'), ('Boho Print Knot Front Blouse', '£12.80'), ('Oversized Overdyed Back Graphic Tee', '£6.40'), ('Jumbo Rib Square Neck Bodysuit', '£6.40')]\n"
     ]
    }
   ],
   "source": [
    "print(data_details)"
   ]
  },
  {
   "cell_type": "markdown",
   "metadata": {},
   "source": [
    "### 3, What is the average prices of these items?"
   ]
  },
  {
   "cell_type": "code",
   "execution_count": 6,
   "metadata": {},
   "outputs": [],
   "source": [
    "price_sum = 0.0\n",
    "for item in data_details:\n",
    "    price_item = item[1].replace('£', '')\n",
    "    price = float(price_item)\n",
    "    price_sum = price_sum + price\n",
    "    avg_price = price_sum / 10"
   ]
  },
  {
   "cell_type": "code",
   "execution_count": 7,
   "metadata": {},
   "outputs": [
    {
     "name": "stdout",
     "output_type": "stream",
     "text": [
      "The average price of all the merchandises are 10.080000000000002\n"
     ]
    }
   ],
   "source": [
    "# The average price\n",
    "print('The average price of all the merchandises are {}'.format(avg_price))                "
   ]
  },
  {
   "cell_type": "markdown",
   "metadata": {},
   "source": [
    "### 4, Which is the most expensive and which is the cheapest ones?"
   ]
  },
  {
   "cell_type": "code",
   "execution_count": 8,
   "metadata": {},
   "outputs": [
    {
     "name": "stdout",
     "output_type": "stream",
     "text": [
      "[9.6, 9.6, 8.0, 8.0, 14.4, 11.2, 14.4, 12.8, 6.4, 6.4]\n"
     ]
    }
   ],
   "source": [
    "price_list = []\n",
    "for item in data_details:\n",
    "    price_delete_sign = item[1].replace('£', '')\n",
    "    price_convert = float(price_delete_sign)\n",
    "    price_list.append(price_convert)\n",
    "    \n",
    "print(price_list)"
   ]
  },
  {
   "cell_type": "code",
   "execution_count": 9,
   "metadata": {},
   "outputs": [
    {
     "name": "stdout",
     "output_type": "stream",
     "text": [
      "The most expensive product cost 14.4\n"
     ]
    }
   ],
   "source": [
    "most_expensive = max(price_list)\n",
    "print('The most expensive product cost {}'.format(most_expensive))"
   ]
  },
  {
   "cell_type": "code",
   "execution_count": 10,
   "metadata": {},
   "outputs": [
    {
     "name": "stdout",
     "output_type": "stream",
     "text": [
      "The cheapest product cost 6.4\n"
     ]
    }
   ],
   "source": [
    "cheapest = min(price_list)\n",
    "print('The cheapest product cost {}'. format(cheapest))"
   ]
  },
  {
   "cell_type": "code",
   "execution_count": null,
   "metadata": {},
   "outputs": [],
   "source": []
  }
 ],
 "metadata": {
  "kernelspec": {
   "display_name": "Python 3",
   "language": "python",
   "name": "python3"
  },
  "language_info": {
   "codemirror_mode": {
    "name": "ipython",
    "version": 3
   },
   "file_extension": ".py",
   "mimetype": "text/x-python",
   "name": "python",
   "nbconvert_exporter": "python",
   "pygments_lexer": "ipython3",
   "version": "3.7.4"
  }
 },
 "nbformat": 4,
 "nbformat_minor": 2
}
